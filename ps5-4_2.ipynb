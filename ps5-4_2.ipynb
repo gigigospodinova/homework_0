{
 "cells": [
  {
   "cell_type": "code",
   "execution_count": null,
   "metadata": {},
   "outputs": [],
   "source": [
    "import numpy as np\n",
    "import matplotlib.pyplot as plt\n",
    "from scipy.special import legendre\n",
    "%matplotlib inline"
   ]
  },
  {
   "cell_type": "code",
   "execution_count": null,
   "metadata": {},
   "outputs": [],
   "source": [
    "def Legendre(k, x): \n",
    "    leg = legendre(k)\n",
    "    P_n = leg(x)\n",
    "    return P_n\n",
    "\n",
    "def f_x(x, Q_f,aq):\n",
    "    Lq = np.zeros(Q_f+1)\n",
    "    for k in range(0,Q_f+1):\n",
    "        Lq[k] = Legendre(k, x)\n",
    "    return sum(aq*Lq)\n",
    "\n",
    "def get_weights(Q_f,sigma,N):\n",
    "    a_q = np.random.normal(size = Q_f+1)\n",
    "    norm = np.zeros(Q_f+1)\n",
    "    for q in range(1,Q_f+1):\n",
    "        norm[q] = 1 / (2 * q + 1)\n",
    "    rescale = 1 / np.sqrt(sum(norm))\n",
    "    a_q = rescale * a_q\n",
    "    x = np.random.uniform(-1,1,N)\n",
    "    eps = np.random.normal(size = N)\n",
    "    y = np.zeros(N)\n",
    "    for i in range(0,N):\n",
    "        y[i]=f_x(x[i],Q_f,a_q)\n",
    "    y = y + sigma * eps\n",
    "    x_2 = np.zeros((3, N))\n",
    "    x_10 = np.zeros((11, N))\n",
    "    x_2[0] = 1\n",
    "    x_10[0] = 1\n",
    "    for i in range(1,11):\n",
    "        if i <= 2:\n",
    "            x_2[i] =  x**i\n",
    "        x_10[i] = x**i\n",
    "    w_2 = np.dot(np.dot(np.linalg.inv(np.dot(x_2,x_2.T)),x_2),y)\n",
    "    w_10 = np.dot(np.dot(np.linalg.inv(np.dot(x_10,x_10.T)),x_10),y)\n",
    "    return w_2,w_10,a_q\n",
    "\n",
    "def get_out_of_sample(Q_f,sigma,N,w_2,w_10,a_q):\n",
    "    x = np.random.uniform(-1,1,N)\n",
    "    y =  np.zeros(N)\n",
    "    x_2 = np.zeros((3, N))\n",
    "    x_10 = np.zeros((11, N))\n",
    "    x_2[0] = 1\n",
    "    x_10[0] = 1\n",
    "    for i in range(0,N):\n",
    "        y[i]=f_x(x[i],Q_f,a_q)\n",
    "    eps = np.random.normal(size = N)\n",
    "    y = y + sigma * eps\n",
    "\n",
    "    for i in range(1,11):\n",
    "        if i <= 2:\n",
    "            x_2[i] =  x**i\n",
    "        x_10[i] = x**i\n",
    "    Eout2 = np.mean((np.dot(x_2.T,w_2) - y)**2)\n",
    "    Eout10 = np.mean((np.dot(x_10.T,w_10) - y)**2)\n",
    "    return Eout2,Eout10"
   ]
  },
  {
   "cell_type": "code",
   "execution_count": null,
   "metadata": {},
   "outputs": [],
   "source": [
    "N = np.array(range(20,120+1,5))\n",
    "nsize = N.size\n",
    "Q_f = np.array(range(1,100+1,1))\n",
    "qfsize = Q_f.size\n",
    "N = np.repeat(N,qfsize)\n",
    "Q_f = np.tile(Q_f,nsize)\n",
    "sigma = np.sqrt(0.1)\n",
    "Eout2 = np.zeros(nsize*qfsize)\n",
    "Eout10 = np.zeros(nsize*qfsize)\n",
    "Eout2_test = np.zeros(100)\n",
    "Eout10_test = np.zeros(100)\n",
    "for i in range(0,nsize*qfsize):\n",
    "    w_2,w_10,a_q = get_weights(Q_f[i],sigma, N[i])\n",
    "    for j in range(0,100):\n",
    "        Eout2_test[j],Eout10_test[j] = get_out_of_sample(Q_f[i],sigma, 10, w_2,w_10,a_q)\n",
    "    Eout2[i] = np.mean(Eout2_test)\n",
    "    Eout10[i] = np.mean(Eout10_test)"
   ]
  },
  {
   "cell_type": "code",
   "execution_count": null,
   "metadata": {},
   "outputs": [],
   "source": [
    "import pandas as pd\n",
    "Overfit = Eout10 -Eout2\n",
    "for i in range(0,Overfit.size):\n",
    "    if Overfit[i] > 0.2:\n",
    "        Overfit[i] = 0.2\n",
    "    elif Overfit[i] < -0.2:\n",
    "        Overfit[i] = -0.2\n",
    "data = pd.DataFrame({'Overfit':Overfit,'Q_f':Q_f,'N':N})\n",
    "data.to_csv(\"overfit.csv\")"
   ]
  },
  {
   "cell_type": "code",
   "execution_count": null,
   "metadata": {},
   "outputs": [],
   "source": [
    "def frange(x, y, jump):\n",
    "  while x < y:\n",
    "    yield x\n",
    "    x += jump\n",
    "N = np.array(range(20,120+1,5))\n",
    "nsize = N.size\n",
    "sigma = np.sqrt(np.array(list(frange(0,2,0.05))))\n",
    "sigmasize = sigma.size\n",
    "N = np.repeat(N, sigmasize)\n",
    "sigma = np.tile(sigma,nsize)\n",
    "Q_f = 20\n",
    "Eout2 = np.zeros(nsize*sigmasize)\n",
    "Eout10 = np.zeros(nsize*sigmasize)\n",
    "Eout2_test = np.zeros(100)\n",
    "Eout10_test = np.zeros(100)\n",
    "for i in range(0,nsize*sigmasize):\n",
    "    w_2,w_10,a_q = get_weights(Q_f,sigma[i], N[i])\n",
    "    for j in range(0,100):\n",
    "        Eout2_test[j],Eout10_test[j] = get_out_of_sample(Q_f,sigma[i], 10, w_2,w_10,a_q)\n",
    "    Eout2[i] = np.mean(Eout2_test)\n",
    "    Eout10[i] = np.mean(Eout10_test)\n",
    "    print(i)"
   ]
  },
  {
   "cell_type": "code",
   "execution_count": null,
   "metadata": {},
   "outputs": [],
   "source": [
    "import pandas as pd\n",
    "Overfit = Eout10 -Eout2\n",
    "for i in range(0,Overfit.size):\n",
    "    if Overfit[i] > 0.2:\n",
    "        Overfit[i] = 0.2\n",
    "    elif Overfit[i] < -0.2:\n",
    "        Overfit[i] = -0.2\n",
    "data = pd.DataFrame({'Overfit':Overfit,'sigma':sigma,'N':N})\n",
    "data.to_csv(\"overfit_sigma2.csv\")"
   ]
  }
 ],
 "metadata": {
  "kernelspec": {
   "display_name": "Python 3",
   "language": "python",
   "name": "python3"
  },
  "language_info": {
   "codemirror_mode": {
    "name": "ipython",
    "version": 3
   },
   "file_extension": ".py",
   "mimetype": "text/x-python",
   "name": "python",
   "nbconvert_exporter": "python",
   "pygments_lexer": "ipython3",
   "version": "3.6.6"
  }
 },
 "nbformat": 4,
 "nbformat_minor": 2
}
