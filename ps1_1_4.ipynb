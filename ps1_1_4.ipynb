{
 "cells": [
  {
   "cell_type": "code",
   "execution_count": 26,
   "metadata": {},
   "outputs": [],
   "source": [
    "import numpy as np\n",
    "import random"
   ]
  },
  {
   "cell_type": "code",
   "execution_count": 36,
   "metadata": {},
   "outputs": [],
   "source": [
    "class Perceptron:\n",
    "    \n",
    "    def __init__(self, x, y, w):\n",
    "        self.x = x\n",
    "        self.y = y\n",
    "        self.w = w\n",
    "        \n",
    "    def predict(self):\n",
    "        h = np.dot(self.x,self.w.T)\n",
    "        h_sign = np.zeros(h.size)\n",
    "        for i in range(h_sign.size):\n",
    "            if h[i] > 0:\n",
    "                h_sign[i] = 1\n",
    "            else:\n",
    "                h_sign[i] = -1\n",
    "        return h_sign\n",
    "    \n",
    "    def misclassified(self, h):\n",
    "        miscls = []\n",
    "        for i in range(y.size):\n",
    "            if y[i] != h[i]:\n",
    "                miscls.append(i)\n",
    "        miscls = np.array(miscls)\n",
    "        return miscls\n",
    "        \n",
    "    def train(self):\n",
    "        count = 0\n",
    "        while True:\n",
    "            h = self.predict()\n",
    "            miscls = self.misclassified(h)\n",
    "            if miscls.size > 0:\n",
    "                t = random.choice(miscls)\n",
    "                self.weight_update(self.y[t],self.x[t])\n",
    "            else:\n",
    "                break\n",
    "            count = count + 1\n",
    "        return count\n",
    "            \n",
    "    def weight_update(self,y_t,x_t):\n",
    "        self.w = self.w + y_t*x_t"
   ]
  },
  {
   "cell_type": "code",
   "execution_count": 37,
   "metadata": {},
   "outputs": [
    {
     "name": "stdout",
     "output_type": "stream",
     "text": [
      "239\n"
     ]
    }
   ],
   "source": [
    "def sign(x,w):\n",
    "    h = np.dot(w,x)\n",
    "    if h > 0:\n",
    "        return 1\n",
    "    else:\n",
    "        return -1\n",
    "    \n",
    "def generate_data():\n",
    "    n = 20\n",
    "    line_points = np.array([[10, 0] ,[0, 10]])\n",
    "    w = np.zeros(3)\n",
    "    y = np.zeros(n)\n",
    "    w[1] = (line_points[1][0] - line_points[0][0])/(line_points[0][1] - line_points[1][1])\n",
    "    w[0] = -(line_points[0][0] * 1 + line_points[0][1]*w[1])\n",
    "    w[2] =  1\n",
    "    x = []\n",
    "    for i in range(n):\n",
    "        x_i = [1,random.randint(0, 10), random.randint(0, 10)]\n",
    "        y[i] = sign(x_i,w)\n",
    "        x.append(x_i)\n",
    "    x = np.array(x)\n",
    "    return x,y,w\n",
    "\n",
    "x, y, ideal_weight = generate_data()\n",
    "w = np.zeros(3)\n",
    "newP = Perceptron(x, y, w)\n",
    "time_to_converge = newP.train()\n",
    "print(time_to_converge)"
   ]
  },
  {
   "cell_type": "code",
   "execution_count": 38,
   "metadata": {},
   "outputs": [
    {
     "data": {
      "image/png": "[encoded data removed]",
      "text/plain": [
       "<Figure size 432x288 with 1 Axes>"
      ]
     },
     "metadata": {
      "needs_background": "light"
     },
     "output_type": "display_data"
    }
   ],
   "source": [
    "import matplotlib.pyplot as plt\n",
    "plt.plot(x[np.where(y==1),1],x[np.where(y==1),2], 'ro')\n",
    "plt.plot(x[np.where(y==-1),1],x[np.where(y==-1),2], 'bo')\n",
    "plt.plot(x, 10 - x, '-g') \n",
    "plt.axis([-5, 20, -5, 20])\n",
    "plt.show()"
   ]
  },
  {
   "cell_type": "code",
   "execution_count": null,
   "metadata": {},
   "outputs": [],
   "source": []
  },
  {
   "cell_type": "code",
   "execution_count": null,
   "metadata": {},
   "outputs": [],
   "source": []
  }
 ],
 "metadata": {
  "kernelspec": {
   "display_name": "Python 3",
   "language": "python",
   "name": "python3"
  },
  "language_info": {
   "codemirror_mode": {
    "name": "ipython",
    "version": 3
   },
   "file_extension": ".py",
   "mimetype": "text/x-python",
   "name": "python",
   "nbconvert_exporter": "python",
   "pygments_lexer": "ipython3",
   "version": "3.6.8"
  }
 },
 "nbformat": 4,
 "nbformat_minor": 2
}
