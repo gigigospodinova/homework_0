{
 "cells": [
  {
   "cell_type": "code",
   "execution_count": 19,
   "metadata": {},
   "outputs": [],
   "source": [
    "import numpy as np\n",
    "import random\n",
    "import matplotlib.pyplot as plt\n",
    "%matplotlib inline"
   ]
  },
  {
   "cell_type": "code",
   "execution_count": 20,
   "metadata": {},
   "outputs": [],
   "source": [
    "def sign(x,w):\n",
    "    h = np.dot(w,x)\n",
    "    if h >= 0:\n",
    "        return 1\n",
    "    else:\n",
    "        return -1    \n",
    "def generate_data():\n",
    "    n = 100\n",
    "    line_points = np.array([[10, 0] ,[0, 10]])\n",
    "    w = np.zeros(3)\n",
    "    y = np.zeros(n)\n",
    "    w[1] = (line_points[1][0] - line_points[0][0])/(line_points[0][1] - line_points[1][1])\n",
    "    w[0] = -(line_points[0][0] * 1 + line_points[0][1]*w[1])\n",
    "    w[2] =  1\n",
    "    x = []\n",
    "    for i in range(n-15):\n",
    "        x_i = [1,random.randint(0, 10), random.randint(0, 10)]\n",
    "        y[i] = sign(x_i,w)\n",
    "        x.append(x_i)\n",
    "    for i in range(n-15, n):\n",
    "        x_i = [1,random.randint(0, 10), random.randint(0, 10)]\n",
    "        y[i] = -sign(x_i,w)\n",
    "        x.append(x_i)\n",
    "    x = np.array(x)\n",
    "    return x,y,w\n",
    "x,y,w = generate_data()\n",
    "s = np.dot(x,w.T)"
   ]
  },
  {
   "cell_type": "code",
   "execution_count": 65,
   "metadata": {},
   "outputs": [
    {
     "data": {
      "text/plain": [
       "[<matplotlib.lines.Line2D at 0x11d72e2b0>]"
      ]
     },
     "execution_count": 65,
     "metadata": {},
     "output_type": "execute_result"
    },
    {
     "data": {
      "image/png": "[encoded data removed]",
      "text/plain": [
       "<Figure size 432x288 with 1 Axes>"
      ]
     },
     "metadata": {
      "needs_background": "light"
     },
     "output_type": "display_data"
    }
   ],
   "source": [
    "e_class = (np.sign(s) != y)*1\n",
    "e_sq = (y-s)**2\n",
    "e_log = np.log(1 + np.exp(-y*s))/np.log(2)\n",
    "plt.plot(s[np.where(y==1)],e_class[np.where(y==1)], 'ro',markersize=3)\n",
    "plt.plot(s[np.where(y==1)],e_sq[np.where(y==1)], 'go',markersize=3)\n",
    "plt.plot(s[np.where(y==1)],e_log[np.where(y==1)]/np.log(2), 'bo',markersize=3)"
   ]
  },
  {
   "cell_type": "code",
   "execution_count": null,
   "metadata": {},
   "outputs": [],
   "source": []
  }
 ],
 "metadata": {
  "kernelspec": {
   "display_name": "Python 3",
   "language": "python",
   "name": "python3"
  },
  "language_info": {
   "codemirror_mode": {
    "name": "ipython",
    "version": 3
   },
   "file_extension": ".py",
   "mimetype": "text/x-python",
   "name": "python",
   "nbconvert_exporter": "python",
   "pygments_lexer": "ipython3",
   "version": "3.6.8"
  }
 },
 "nbformat": 4,
 "nbformat_minor": 2
}
