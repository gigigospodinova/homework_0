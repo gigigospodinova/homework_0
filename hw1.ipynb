{
 "cells": [
  {
   "cell_type": "markdown",
   "metadata": {},
   "source": [
    "<h2> Problem 1 </h2>"
   ]
  },
  {
   "cell_type": "code",
   "execution_count": 1,
   "metadata": {},
   "outputs": [],
   "source": [
    "import re\n",
    "import networkx as nx\n",
    "G=nx.Graph()\n",
    "filepath = \"collab_data.txt\"\n",
    "with open(filepath) as fp:\n",
    "    line = fp.readline()\n",
    "    while line:\n",
    "        m = re.search('\\d\\d\\d\\d\\s+E?\\d*[a-zA-Z]?\\s+\\w+\\s+(.+?),', line)\n",
    "        if m:\n",
    "            found = m.group(1)\n",
    "            found_list = [x.strip() for x in re.split('&|\\*',found)]\n",
    "            found_list = [re.sub('\\ \\([a-zA-Z][a-zA-Z][a-zA-Z]?.\\)', '', w) for w in found_list] \n",
    "            found_list = [item for item in found_list if 'review of' not in item ]\n",
    "            list1 = [y for x in found_list for y in x.split(' and ') if re.match(r\"^(den )?[A-Z][a-z]+\\b and \\b[A-Z][a-z]+$\", x)]\n",
    "            list2 = [x for x in found_list if not re.match(r\"^(den )?[A-Z][a-z]+\\b and \\b[A-Z][a-z]+$\", x)]\n",
    "            found_list = list1 + list2\n",
    "            if len(found_list) == 1:\n",
    "                G.add_node(found_list[0])\n",
    "            elif len(found_list) > 1:\n",
    "                for i in range(0,len(found_list)-1):\n",
    "                    for j in range(i+1,len(found_list)):\n",
    "                        G.add_edge(found_list[i],found_list[j]) \n",
    "        line = fp.readline()"
   ]
  },
  {
   "cell_type": "markdown",
   "metadata": {},
   "source": [
    "<h3>Number of nodes</h3>"
   ]
  },
  {
   "cell_type": "code",
   "execution_count": 2,
   "metadata": {},
   "outputs": [
    {
     "data": {
      "text/plain": [
       "35033"
      ]
     },
     "execution_count": 2,
     "metadata": {},
     "output_type": "execute_result"
    }
   ],
   "source": [
    "len(G.nodes())"
   ]
  },
  {
   "cell_type": "markdown",
   "metadata": {},
   "source": [
    "<h3> Number of edges</h3>"
   ]
  },
  {
   "cell_type": "code",
   "execution_count": 3,
   "metadata": {},
   "outputs": [
    {
     "data": {
      "text/plain": [
       "111825"
      ]
     },
     "execution_count": 3,
     "metadata": {},
     "output_type": "execute_result"
    }
   ],
   "source": [
    "len(G.edges())"
   ]
  },
  {
   "cell_type": "markdown",
   "metadata": {},
   "source": [
    "<h3> Number of edges (not including self-loops) </h3>"
   ]
  },
  {
   "cell_type": "code",
   "execution_count": 4,
   "metadata": {},
   "outputs": [
    {
     "data": {
      "text/plain": [
       "111434"
      ]
     },
     "execution_count": 4,
     "metadata": {},
     "output_type": "execute_result"
    }
   ],
   "source": [
    "len(G.edges()) -  G.number_of_selfloops()"
   ]
  },
  {
   "cell_type": "markdown",
   "metadata": {},
   "source": [
    "<h3>Number of self-loops</h3>"
   ]
  },
  {
   "cell_type": "code",
   "execution_count": 5,
   "metadata": {},
   "outputs": [
    {
     "data": {
      "text/plain": [
       "391"
      ]
     },
     "execution_count": 5,
     "metadata": {},
     "output_type": "execute_result"
    }
   ],
   "source": [
    "G.number_of_selfloops()"
   ]
  },
  {
   "cell_type": "markdown",
   "metadata": {},
   "source": [
    "<h3> Node degrees </h3>"
   ]
  },
  {
   "cell_type": "code",
   "execution_count": 6,
   "metadata": {},
   "outputs": [
    {
     "name": "stdout",
     "output_type": "stream",
     "text": [
      "Counter({1: 7182, 2: 6212, 3: 4270, 0: 4203, 4: 2560, 5: 1818, 6: 1259, 7: 1010, 8: 782, 9: 571, 10: 520, 11: 486, 12: 345, 13: 319, 14: 257, 15: 249, 17: 208, 16: 193, 18: 163, 19: 147, 21: 134, 20: 130, 23: 112, 22: 102, 24: 99, 26: 97, 25: 76, 31: 75, 28: 64, 27: 62, 32: 60, 29: 57, 30: 56, 34: 48, 37: 46, 35: 43, 36: 43, 33: 40, 38: 36, 42: 33, 49: 33, 39: 32, 40: 30, 41: 30, 44: 26, 45: 25, 43: 24, 46: 24, 47: 22, 48: 18, 50: 18, 51: 18, 56: 16, 59: 16, 61: 16, 65: 16, 67: 15, 60: 14, 63: 14, 64: 14, 52: 13, 53: 13, 54: 13, 55: 13, 58: 13, 74: 13, 73: 11, 75: 11, 57: 10, 66: 10, 72: 10, 79: 10, 68: 9, 62: 8, 71: 8, 77: 8, 80: 8, 82: 8, 87: 8, 99: 8, 69: 7, 85: 6, 86: 6, 89: 6, 103: 6, 70: 5, 81: 5, 90: 5, 94: 5, 98: 5, 125: 5, 78: 4, 84: 4, 91: 4, 95: 4, 97: 4, 107: 4, 76: 3, 83: 3, 92: 3, 93: 3, 96: 3, 100: 3, 101: 3, 104: 3, 108: 3, 110: 3, 114: 3, 117: 3, 119: 3, 122: 3, 133: 3, 150: 3, 162: 3, 88: 2, 102: 2, 106: 2, 109: 2, 112: 2, 116: 2, 120: 2, 123: 2, 127: 2, 129: 2, 134: 2, 140: 2, 147: 2, 153: 2, 154: 2, 158: 2, 169: 2, 174: 2, 179: 2, 198: 2, 223: 2, 249: 2, 383: 2, 105: 1, 111: 1, 113: 1, 118: 1, 121: 1, 126: 1, 130: 1, 131: 1, 132: 1, 135: 1, 136: 1, 137: 1, 138: 1, 142: 1, 143: 1, 144: 1, 146: 1, 151: 1, 152: 1, 157: 1, 160: 1, 161: 1, 163: 1, 164: 1, 165: 1, 166: 1, 168: 1, 172: 1, 173: 1, 185: 1, 186: 1, 188: 1, 193: 1, 195: 1, 196: 1, 200: 1, 203: 1, 211: 1, 220: 1, 221: 1, 227: 1, 232: 1, 259: 1, 268: 1, 279: 1, 288: 1, 289: 1, 319: 1, 330: 1, 352: 1, 380: 1, 381: 1, 437: 1, 536: 1, 559: 1, 618: 1, 688: 1, 709: 1})\n"
     ]
    }
   ],
   "source": [
    "import collections\n",
    "def count_degrees(G):\n",
    "    node_degrees = []\n",
    "    for i in G.nodes():\n",
    "        node_degrees.append(G.degree[i])\n",
    "    node_degrees.sort()\n",
    "    counter=collections.Counter(node_degrees)\n",
    "    return counter\n",
    "counter = count_degrees(G)\n",
    "print(counter)"
   ]
  },
  {
   "cell_type": "code",
   "execution_count": 7,
   "metadata": {},
   "outputs": [],
   "source": [
    "import numpy as np\n",
    "def convert_to_log_log(dict_name):\n",
    "    a, b = dict_name.keys(), dict_name.values()\n",
    "    a_list = list(a)\n",
    "    b_list = list(b)\n",
    "    a_log = []\n",
    "    b_log = []\n",
    "    for i in range(0,len(a_list)):\n",
    "        if np.log(a_list[i]) > 0 and np.log(b_list[i]) > 0:\n",
    "            a_log.append(np.log(a_list[i]))\n",
    "            b_log.append(np.log(b_list[i]))\n",
    "    return a_log, b_log"
   ]
  },
  {
   "cell_type": "code",
   "execution_count": 8,
   "metadata": {},
   "outputs": [
    {
     "name": "stderr",
     "output_type": "stream",
     "text": [
      "/Users/gigisonnenschein/anaconda3/lib/python3.6/site-packages/ipykernel_launcher.py:9: RuntimeWarning: divide by zero encountered in log\n",
      "  if __name__ == '__main__':\n"
     ]
    }
   ],
   "source": [
    "a_log,b_log = convert_to_log_log(counter)"
   ]
  },
  {
   "cell_type": "code",
   "execution_count": 9,
   "metadata": {},
   "outputs": [
    {
     "data": {
      "text/plain": [
       "<matplotlib.collections.PathCollection at 0xa2419e978>"
      ]
     },
     "execution_count": 9,
     "metadata": {},
     "output_type": "execute_result"
    },
    {
     "data": {
      "image/png": "[encoded data removed]",
      "text/plain": [
       "<Figure size 432x288 with 1 Axes>"
      ]
     },
     "metadata": {
      "needs_background": "light"
     },
     "output_type": "display_data"
    }
   ],
   "source": [
    "%matplotlib inline\n",
    "import matplotlib.pyplot as plt\n",
    "plt.scatter(a_log,b_log)"
   ]
  },
  {
   "cell_type": "markdown",
   "metadata": {},
   "source": [
    "<h3> Connected components </h3>"
   ]
  },
  {
   "cell_type": "code",
   "execution_count": 10,
   "metadata": {},
   "outputs": [
    {
     "data": {
      "text/plain": [
       "28011"
      ]
     },
     "execution_count": 10,
     "metadata": {},
     "output_type": "execute_result"
    }
   ],
   "source": [
    "largest_cc = max(nx.connected_components(G), key=len)\n",
    "len(largest_cc)"
   ]
  },
  {
   "cell_type": "code",
   "execution_count": 11,
   "metadata": {
    "scrolled": false
   },
   "outputs": [
    {
     "name": "stdout",
     "output_type": "stream",
     "text": [
      "Counter({1: 4226, 2: 868, 3: 191, 4: 58, 5: 22, 6: 14, 7: 5, 8: 2, 28011: 1, 10: 1})\n"
     ]
    }
   ],
   "source": [
    "num_con_comp = [len(c) for c in sorted(nx.connected_components(G), key=len, reverse=True)]\n",
    "counter_comp=collections.Counter(num_con_comp)\n",
    "print(counter_comp)"
   ]
  },
  {
   "cell_type": "code",
   "execution_count": 12,
   "metadata": {},
   "outputs": [],
   "source": [
    "a_comp_log,b_comp_log = convert_to_log_log(counter_comp)"
   ]
  },
  {
   "cell_type": "code",
   "execution_count": 13,
   "metadata": {},
   "outputs": [
    {
     "data": {
      "text/plain": [
       "<matplotlib.collections.PathCollection at 0x10e8d4278>"
      ]
     },
     "execution_count": 13,
     "metadata": {},
     "output_type": "execute_result"
    },
    {
     "data": {
      "image/png": "[encoded data removed]",
      "text/plain": [
       "<Figure size 432x288 with 1 Axes>"
      ]
     },
     "metadata": {
      "needs_background": "light"
     },
     "output_type": "display_data"
    }
   ],
   "source": [
    "plt.scatter(a_comp_log,b_comp_log)"
   ]
  },
  {
   "cell_type": "markdown",
   "metadata": {},
   "source": [
    "<h3> Node-to-Node distances </h3>"
   ]
  },
  {
   "cell_type": "code",
   "execution_count": 14,
   "metadata": {},
   "outputs": [],
   "source": [
    "con_comp = [c for c in sorted(nx.connected_components(G), key=len, reverse=True)]\n",
    "largest_con_comp = con_comp[0]"
   ]
  },
  {
   "cell_type": "code",
   "execution_count": 15,
   "metadata": {},
   "outputs": [],
   "source": [
    "def find_max_distance(G, node_name, nodes_list):\n",
    "    max_dist = 0\n",
    "    for i in nodes_list:\n",
    "        dist = nx.shortest_path_length(G, source=node_name, target=i, weight=None)\n",
    "        if max_dist < dist:\n",
    "            max_dist = dist\n",
    "    return max_dist"
   ]
  },
  {
   "cell_type": "code",
   "execution_count": 16,
   "metadata": {},
   "outputs": [
    {
     "data": {
      "text/plain": [
       "9"
      ]
     },
     "execution_count": 16,
     "metadata": {},
     "output_type": "execute_result"
    }
   ],
   "source": [
    "find_max_distance(G, \"Hartmanis\", largest_con_comp)"
   ]
  },
  {
   "cell_type": "code",
   "execution_count": 17,
   "metadata": {},
   "outputs": [
    {
     "data": {
      "text/plain": [
       "13"
      ]
     },
     "execution_count": 17,
     "metadata": {},
     "output_type": "execute_result"
    }
   ],
   "source": [
    "find_max_distance(G, \"Bornberg-Bauer\", largest_con_comp)"
   ]
  },
  {
   "cell_type": "markdown",
   "metadata": {},
   "source": [
    "<h3> Own Analysis </h3>"
   ]
  },
  {
   "cell_type": "code",
   "execution_count": 18,
   "metadata": {},
   "outputs": [
    {
     "name": "stdout",
     "output_type": "stream",
     "text": [
      "['Wang', 'Chen', 'Lee']\n"
     ]
    }
   ],
   "source": [
    "def find_nodes_degree_over(G, lower_bound):\n",
    "    node_list = []\n",
    "    for i in G.nodes():\n",
    "        if G.degree[i] > lower_bound:\n",
    "            node_list.append(i)\n",
    "    return node_list\n",
    "node_list = find_nodes_degree_over(G, 600)\n",
    "print(node_list)"
   ]
  },
  {
   "cell_type": "code",
   "execution_count": 19,
   "metadata": {},
   "outputs": [],
   "source": [
    "def convert_dict_keyiterator_to_set(dict_var):\n",
    "    new_list = []\n",
    "    for i in dict_var:\n",
    "        new_list.append(i)\n",
    "    return set(new_list)\n",
    "neighbors1 = convert_dict_keyiterator_to_set(G.neighbors(node_list[0]))\n",
    "neighbors2 = convert_dict_keyiterator_to_set(G.neighbors(node_list[1]))\n",
    "neighbors3 = convert_dict_keyiterator_to_set(G.neighbors(node_list[2]))"
   ]
  },
  {
   "cell_type": "code",
   "execution_count": 20,
   "metadata": {},
   "outputs": [],
   "source": [
    "import matplotlib.pyplot as plt\n",
    "from matplotlib_venn import venn3"
   ]
  },
  {
   "cell_type": "code",
   "execution_count": 21,
   "metadata": {},
   "outputs": [
    {
     "data": {
      "image/png": "[encoded data removed]",
      "text/plain": [
       "<Figure size 432x288 with 1 Axes>"
      ]
     },
     "metadata": {},
     "output_type": "display_data"
    }
   ],
   "source": [
    "venn3(subsets = (neighbors1,neighbors2,neighbors3), set_labels = (node_list[0], node_list[1],node_list[2]))\n",
    "plt.show()"
   ]
  },
  {
   "cell_type": "markdown",
   "metadata": {},
   "source": [
    "<h2> Problem 2 </h2>"
   ]
  },
  {
   "cell_type": "markdown",
   "metadata": {},
   "source": [
    "<h3> Random Network</h3>"
   ]
  },
  {
   "cell_type": "code",
   "execution_count": 22,
   "metadata": {},
   "outputs": [],
   "source": [
    "import random as rd\n",
    "def generate_u_v(upper_bound):\n",
    "    u = rd.randrange(upper_bound)\n",
    "    v = rd.randrange(upper_bound)\n",
    "    while u == v:\n",
    "        u = rd.randrange(upper_bound)\n",
    "        v = rd.randrange(upper_bound)\n",
    "    return u,v\n",
    "\n",
    "def generate_random_network(n, m, self_loops):\n",
    "    G =nx.Graph()\n",
    "    for i in range(0,n):\n",
    "        G.add_node(i)\n",
    "    for i in range(0,m - self_loops):\n",
    "        u,v = generate_u_v(n)\n",
    "        while G.has_edge(u,v):\n",
    "            u,v = generate_u_v(n)\n",
    "        G.add_edge(u,v)\n",
    "    for i in range(0, self_loops):\n",
    "        u = rd.randrange(n)\n",
    "        while G.has_edge(u,u):\n",
    "            u = rd.randrange(n)\n",
    "        G.add_edge(u,u)\n",
    "    return G"
   ]
  },
  {
   "cell_type": "markdown",
   "metadata": {},
   "source": [
    "Expected number of self-loops"
   ]
  },
  {
   "cell_type": "code",
   "execution_count": 23,
   "metadata": {},
   "outputs": [
    {
     "name": "stdout",
     "output_type": "stream",
     "text": [
      "6\n"
     ]
    }
   ],
   "source": [
    "from scipy.special import comb\n",
    "n = len(G.nodes())\n",
    "m = len(G.edges())\n",
    "total_possible_edges = comb(n + 1, 2)\n",
    "p = m / total_possible_edges\n",
    "self_loops = int(np.floor(p * n))\n",
    "print(self_loops)"
   ]
  },
  {
   "cell_type": "code",
   "execution_count": 24,
   "metadata": {},
   "outputs": [],
   "source": [
    "G_rand = generate_random_network(len(G.nodes), len(G.edges), self_loops)"
   ]
  },
  {
   "cell_type": "markdown",
   "metadata": {},
   "source": [
    "<h3> Small-world network</h3>"
   ]
  },
  {
   "cell_type": "code",
   "execution_count": 25,
   "metadata": {},
   "outputs": [],
   "source": [
    "def generate_small_world(n):\n",
    "    G =nx.Graph()\n",
    "    for i in range(0,n):\n",
    "        G.add_node(i)\n",
    "    for i in range(0,n):\n",
    "        if i != n-1 and i != n-2:\n",
    "            G.add_edge(i, i+1)\n",
    "            G.add_edge(i, i+2)\n",
    "        elif i == n-2:\n",
    "            G.add_edge(i, i+1)\n",
    "            G.add_edge(i, 0)\n",
    "        elif i == n-1:\n",
    "            G.add_edge(i, 1)\n",
    "            G.add_edge(i, 0)\n",
    "    return G   "
   ]
  },
  {
   "cell_type": "code",
   "execution_count": 26,
   "metadata": {},
   "outputs": [],
   "source": [
    "G_small = generate_small_world(len(G.nodes()))"
   ]
  },
  {
   "cell_type": "markdown",
   "metadata": {},
   "source": [
    "Randomly select m - 2n pairs of nodes and add an edge between them"
   ]
  },
  {
   "cell_type": "code",
   "execution_count": 27,
   "metadata": {},
   "outputs": [],
   "source": [
    "for i in range(0,len(G.edges()) - 2*len(G_small.nodes)):\n",
    "    u,v = generate_u_v(len(G_small.nodes))\n",
    "    while G_small.has_edge(u,v):\n",
    "        u,v = generate_u_v(len(G_small.nodes))\n",
    "    G_small.add_edge(u,v)"
   ]
  },
  {
   "cell_type": "markdown",
   "metadata": {},
   "source": [
    "<h3> Degree distribution </h3>"
   ]
  },
  {
   "cell_type": "code",
   "execution_count": 28,
   "metadata": {},
   "outputs": [
    {
     "name": "stderr",
     "output_type": "stream",
     "text": [
      "/Users/gigisonnenschein/anaconda3/lib/python3.6/site-packages/ipykernel_launcher.py:9: RuntimeWarning: divide by zero encountered in log\n",
      "  if __name__ == '__main__':\n"
     ]
    },
    {
     "data": {
      "text/plain": [
       "<matplotlib.legend.Legend at 0x1025043080>"
      ]
     },
     "execution_count": 28,
     "metadata": {},
     "output_type": "execute_result"
    },
    {
     "data": {
      "image/png": "[encoded data removed]",
      "text/plain": [
       "<Figure size 432x288 with 1 Axes>"
      ]
     },
     "metadata": {
      "needs_background": "light"
     },
     "output_type": "display_data"
    }
   ],
   "source": [
    "a_log_small,b_log_small = convert_to_log_log(count_degrees(G_small))\n",
    "a_log_rand,b_log_rand = convert_to_log_log(count_degrees(G_rand))\n",
    "plt.scatter(a_log,b_log,color='g',label=\"Collab Network\")\n",
    "plt.scatter(a_log_small,b_log_small,color='b',label=\"Small-World Network\")\n",
    "plt.scatter(a_log_rand,b_log_rand,color='r',label=\"Random Network\")\n",
    "plt.legend()"
   ]
  },
  {
   "cell_type": "markdown",
   "metadata": {},
   "source": [
    "<h3> Connected components </h3>"
   ]
  },
  {
   "cell_type": "markdown",
   "metadata": {},
   "source": [
    "Random Network"
   ]
  },
  {
   "cell_type": "code",
   "execution_count": 29,
   "metadata": {},
   "outputs": [
    {
     "data": {
      "text/plain": [
       "34969"
      ]
     },
     "execution_count": 29,
     "metadata": {},
     "output_type": "execute_result"
    }
   ],
   "source": [
    "largest_cc_rand = max(nx.connected_components(G_rand), key=len)\n",
    "len(largest_cc_rand)"
   ]
  },
  {
   "cell_type": "markdown",
   "metadata": {},
   "source": [
    "Small-World Network"
   ]
  },
  {
   "cell_type": "code",
   "execution_count": 30,
   "metadata": {},
   "outputs": [
    {
     "data": {
      "text/plain": [
       "35033"
      ]
     },
     "execution_count": 30,
     "metadata": {},
     "output_type": "execute_result"
    }
   ],
   "source": [
    "largest_cc_small = max(nx.connected_components(G_small), key=len)\n",
    "len(largest_cc_small)"
   ]
  },
  {
   "cell_type": "markdown",
   "metadata": {},
   "source": [
    "<h3> Node-to-Node distances </h3>"
   ]
  },
  {
   "cell_type": "code",
   "execution_count": 31,
   "metadata": {},
   "outputs": [
    {
     "data": {
      "text/plain": [
       "9"
      ]
     },
     "execution_count": 31,
     "metadata": {},
     "output_type": "execute_result"
    }
   ],
   "source": [
    "con_comp_rand = [c for c in sorted(nx.connected_components(G_rand), key=len, reverse=True)]\n",
    "largest_con_comp_rand = con_comp_rand[0]\n",
    "find_max_distance(G_rand, 33, largest_con_comp_rand)"
   ]
  },
  {
   "cell_type": "code",
   "execution_count": 32,
   "metadata": {},
   "outputs": [
    {
     "data": {
      "text/plain": [
       "9"
      ]
     },
     "execution_count": 32,
     "metadata": {},
     "output_type": "execute_result"
    }
   ],
   "source": [
    "con_comp_small = [c for c in sorted(nx.connected_components(G_small), key=len, reverse=True)]\n",
    "largest_con_comp_small = con_comp_small[0]\n",
    "find_max_distance(G_small, 33, largest_con_comp_small)"
   ]
  },
  {
   "cell_type": "markdown",
   "metadata": {},
   "source": [
    "<h3> Own Analysis </h3>"
   ]
  },
  {
   "cell_type": "code",
   "execution_count": 33,
   "metadata": {},
   "outputs": [
    {
     "name": "stdout",
     "output_type": "stream",
     "text": [
      "Counter({6: 9198, 5: 7738, 7: 7165, 8: 4364, 4: 3251, 9: 2069, 10: 829, 11: 290, 12: 94, 13: 22, 14: 10, 15: 2, 16: 1})\n"
     ]
    }
   ],
   "source": [
    "print(count_degrees(G_small))"
   ]
  },
  {
   "cell_type": "code",
   "execution_count": 34,
   "metadata": {},
   "outputs": [
    {
     "name": "stdout",
     "output_type": "stream",
     "text": [
      "Counter({6: 5706, 5: 5285, 7: 4950, 4: 4075, 8: 4033, 9: 2818, 3: 2585, 10: 1880, 2: 1182, 11: 1060, 12: 554, 1: 344, 13: 270, 14: 134, 0: 64, 15: 50, 16: 28, 17: 13, 18: 1, 19: 1})\n"
     ]
    }
   ],
   "source": [
    "print(count_degrees(G_rand))"
   ]
  },
  {
   "cell_type": "code",
   "execution_count": 36,
   "metadata": {},
   "outputs": [
    {
     "data": {
      "image/png": "[encoded data removed]",
      "text/plain": [
       "<Figure size 432x288 with 1 Axes>"
      ]
     },
     "metadata": {},
     "output_type": "display_data"
    }
   ],
   "source": [
    "node_list_rand = find_nodes_degree_over(G_rand, 16)\n",
    "neighbors_rand1 = convert_dict_keyiterator_to_set(G_rand.neighbors(node_list_rand[0]))\n",
    "neighbors_rand2 = convert_dict_keyiterator_to_set(G_rand.neighbors(node_list_rand[1]))\n",
    "neighbors_rand3 = convert_dict_keyiterator_to_set(G_rand.neighbors(node_list_rand[2]))\n",
    "venn3(subsets = (neighbors_rand1,neighbors_rand2,neighbors_rand3), set_labels = (node_list_rand[0], node_list_rand[1],node_list_rand[2]))\n",
    "plt.show()"
   ]
  },
  {
   "cell_type": "code",
   "execution_count": 37,
   "metadata": {},
   "outputs": [
    {
     "data": {
      "image/png": "[encoded data removed]",
      "text/plain": [
       "<Figure size 432x288 with 1 Axes>"
      ]
     },
     "metadata": {},
     "output_type": "display_data"
    }
   ],
   "source": [
    "node_list_small = find_nodes_degree_over(G_small, 13)\n",
    "neighbors_small1 = convert_dict_keyiterator_to_set(G_small.neighbors(node_list_small[0]))\n",
    "neighbors_small2 = convert_dict_keyiterator_to_set(G_small.neighbors(node_list_small[1]))\n",
    "neighbors_small3 = convert_dict_keyiterator_to_set(G_small.neighbors(node_list_small[2]))\n",
    "venn3(subsets = (neighbors_small1,neighbors_small2,neighbors_small3), set_labels = (node_list_small[0], node_list_small[1],node_list_small[2]))\n",
    "plt.show()"
   ]
  },
  {
   "cell_type": "code",
   "execution_count": null,
   "metadata": {},
   "outputs": [],
   "source": []
  }
 ],
 "metadata": {
  "kernelspec": {
   "display_name": "Python 3",
   "language": "python",
   "name": "python3"
  },
  "language_info": {
   "codemirror_mode": {
    "name": "ipython",
    "version": 3
   },
   "file_extension": ".py",
   "mimetype": "text/x-python",
   "name": "python",
   "nbconvert_exporter": "python",
   "pygments_lexer": "ipython3",
   "version": "3.6.6"
  }
 },
 "nbformat": 4,
 "nbformat_minor": 2
}
